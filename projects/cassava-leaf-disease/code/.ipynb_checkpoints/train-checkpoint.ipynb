{
 "cells": [
  {
   "cell_type": "markdown",
   "metadata": {},
   "source": [
    "# Imports"
   ]
  },
  {
   "cell_type": "code",
   "execution_count": 1,
   "metadata": {},
   "outputs": [
    {
     "name": "stdout",
     "output_type": "stream",
     "text": [
      "CPU times: user 1.73 s, sys: 718 ms, total: 2.45 s\n",
      "Wall time: 5.31 s\n"
     ]
    }
   ],
   "source": [
    "%%time\n",
    "import pytorch_lightning as pl\n",
    "import torch as th\n",
    "\n",
    "from pytorch_lightning.callbacks import ModelCheckpoint, EarlyStopping, GPUStatsMonitor\n",
    "from pytorch_lightning.loggers import TensorBoardLogger\n",
    "from pytorch_lightning.metrics.functional.classification import accuracy\n",
    "from pytorch_lightning import seed_everything\n",
    "import torch.nn.functional as F\n",
    "import torchvision\n",
    "import timm\n",
    "from timm import create_model\n",
    "from torchvision import transforms\n",
    "import os\n",
    "import pandas as pd\n",
    "\n",
    "# data module\n",
    "from src.dataset import DataModule\n",
    "\n",
    "# model\n",
    "from src.model import Model\n",
    "\n",
    "# config file\n",
    "from src.config import Config"
   ]
  },
  {
   "cell_type": "markdown",
   "metadata": {},
   "source": [
    "# Data module and setup"
   ]
  },
  {
   "cell_type": "code",
   "execution_count": 2,
   "metadata": {},
   "outputs": [
    {
     "name": "stderr",
     "output_type": "stream",
     "text": [
      "Global seed set to 2021\n"
     ]
    }
   ],
   "source": [
    "_ = seed_everything(seed =  Config.seed_val)"
   ]
  },
  {
   "cell_type": "code",
   "execution_count": 3,
   "metadata": {},
   "outputs": [
    {
     "data": {
      "text/plain": [
       "{'data_dir': '/home/zeusdric/Dric/Zindi2020/Coding-Room/projects/cassava-leaf-disease/data/input',\n",
       " 'models_dir': '/home/zeusdric/Dric/Zindi2020/Coding-Room/projects/cassava-leaf-disease/models',\n",
       " 'logs_dir': '/home/zeusdric/Dric/Zindi2020/Coding-Room/projects/cassava-leaf-disease/logs',\n",
       " 'train_data_dir': '/home/zeusdric/Dric/Zindi2020/Coding-Room/projects/cassava-leaf-disease/data/input/train_images',\n",
       " 'test_data_dir': '/home/zeusdric/Dric/Zindi2020/Coding-Room/projects/cassava-leaf-disease/data/input/test_images',\n",
       " 'num_epochs': 10,\n",
       " 'lr': 0.0003,\n",
       " 'resize': 400,\n",
       " 'img_h': 350,\n",
       " 'img_w': 350,\n",
       " 'weight_decay': 0.01,\n",
       " 'eps': 1e-08,\n",
       " 'train_batch_size': 32,\n",
       " 'test_batch_size': 32,\n",
       " 'base_model': 'resnet34',\n",
       " 'seed_val': 2021}"
      ]
     },
     "execution_count": 3,
     "metadata": {},
     "output_type": "execute_result"
    }
   ],
   "source": [
    "config_dict = Config.__dict__.items()\n",
    "config_dict = dict([item for item in config_dict if '__' not in item[0]])"
   ]
  },
  {
   "cell_type": "code",
   "execution_count": 4,
   "metadata": {},
   "outputs": [
    {
     "data": {
      "text/plain": [
       "'/home/zeusdric/Dric/Zindi2020/Coding-Room/projects/cassava-leaf-disease/data/input'"
      ]
     },
     "execution_count": 4,
     "metadata": {},
     "output_type": "execute_result"
    }
   ],
   "source": [
    "PATH = Config.data_dir"
   ]
  },
  {
   "cell_type": "code",
   "execution_count": 5,
   "metadata": {},
   "outputs": [
    {
     "name": "stdout",
     "output_type": "stream",
     "text": [
      "[INFO] Training on 19043\n",
      "[INFO] Validating on 2354\n",
      "CPU times: user 22.3 ms, sys: 0 ns, total: 22.3 ms\n",
      "Wall time: 21.7 ms\n"
     ]
    }
   ],
   "source": [
    "%%time\n",
    "train_df = pd.read_csv(os.path.join(Config.data_dir, 'train.csv'))\n",
    "data_transform = {\n",
    "    'train': transforms.Compose([\n",
    "        transforms.Resize(size=(Config.resize, Config.resize)),\n",
    "        transforms.RandomHorizontalFlip(p=.7),\n",
    "        transforms.RandomVerticalFlip(p=.3),\n",
    "        transforms.RandomRotation(degrees=25),\n",
    "        transforms.CenterCrop(size=(Config.img_h, Config.img_w)),\n",
    "        transforms.ColorJitter(brightness=(0.4, 1), contrast=.2, saturation=0, hue=0),\n",
    "        transforms.GaussianBlur(kernel_size=3)\n",
    "    ]),\n",
    "    \n",
    "    'validation':transforms.Compose([\n",
    "        transforms.Resize(size=(Config.resize, Config.resize)),\n",
    "        transforms.RandomRotation(degrees=25),\n",
    "        transforms.CenterCrop(size=(Config.img_h, Config.img_w)),\n",
    "        transforms.ColorJitter(brightness=(0.45, 1), \n",
    "                               contrast=.1, \n",
    "                               saturation=.1, \n",
    "                               hue=0.1),\n",
    "        transforms.GaussianBlur(kernel_size=3)\n",
    "    ]), \n",
    "    \n",
    "    'test':transforms.Compose([\n",
    "        transforms.Resize(size=(Config.img_h, Config.img_w)),\n",
    "        transforms.RandomRotation(degrees=25),\n",
    "    ])\n",
    "    \n",
    "}\n",
    "\n",
    "dm = DataModule(config=Config, \n",
    "                 train_data_dir=Config.train_data_dir, \n",
    "                 test_data_dir=Config.test_data_dir, \n",
    "                 train_df=train_df,\n",
    "                 data_transform=data_transform,\n",
    "                 validation_split=.11,\n",
    "                 train_frac = 1)\n",
    "dm.setup()"
   ]
  },
  {
   "cell_type": "code",
   "execution_count": 6,
   "metadata": {},
   "outputs": [
    {
     "name": "stdout",
     "output_type": "stream",
     "text": [
      "CPU times: user 593 ms, sys: 190 ms, total: 783 ms\n",
      "Wall time: 1.61 s\n"
     ]
    }
   ],
   "source": [
    "%%time\n",
    "model = Model(config=config_dict)"
   ]
  },
  {
   "cell_type": "code",
   "execution_count": 7,
   "metadata": {},
   "outputs": [
    {
     "name": "stderr",
     "output_type": "stream",
     "text": [
      "GPU available: True, used: True\n",
      "TPU available: None, using: 0 TPU cores\n",
      "LOCAL_RANK: 0 - CUDA_VISIBLE_DEVICES: [0]\n",
      "Using native 16bit precision.\n"
     ]
    },
    {
     "name": "stdout",
     "output_type": "stream",
     "text": [
      "CPU times: user 27.8 ms, sys: 15.9 ms, total: 43.8 ms\n",
      "Wall time: 39 ms\n"
     ]
    }
   ],
   "source": [
    "%%time\n",
    "ckpt_cb = ModelCheckpoint(\n",
    "    monitor='val_acc', \n",
    "    mode='max', \n",
    "    dirpath=Config.models_dir, \n",
    "    filename='leaf_disease_classifier-{val_acc:.5f}-{val_loss:.5f}'\n",
    ")\n",
    "\n",
    "gpu_stats = GPUStatsMonitor(\n",
    "    memory_utilization=True, \n",
    "    gpu_utilization=True, \n",
    "    fan_speed=True, \n",
    "    temperature=True\n",
    ")\n",
    "es = EarlyStopping(\n",
    "    monitor='val_acc', \n",
    "    patience=4, \n",
    "    mode='max'\n",
    ")\n",
    "\n",
    "Logger = TensorBoardLogger(\n",
    "    save_dir=Config.logs_dir, \n",
    "    name='cassava_leaf_disease'\n",
    ")\n",
    "\n",
    "Callbacks = [es, ckpt_cb, gpu_stats]\n",
    "\n",
    "trainer = pl.Trainer(\n",
    "    gpus=-1, \n",
    "    max_epochs=Config.num_epochs, \n",
    "    precision=16,\n",
    "    callbacks=Callbacks,\n",
    "    logger=Logger,\n",
    "    #fast_dev_run=True\n",
    ")"
   ]
  },
  {
   "cell_type": "markdown",
   "metadata": {},
   "source": [
    "# Training phase"
   ]
  },
  {
   "cell_type": "code",
   "execution_count": 8,
   "metadata": {},
   "outputs": [
    {
     "name": "stderr",
     "output_type": "stream",
     "text": [
      "\n",
      "  | Name       | Type    | Params\n",
      "---------------------------------------\n",
      "0 | encoder    | ResNet  | 21.8 M\n",
      "1 | classifier | Linear  | 5.0 K \n",
      "2 | dropout    | Dropout | 0     \n",
      "---------------------------------------\n",
      "21.8 M    Trainable params\n",
      "0         Non-trainable params\n",
      "21.8 M    Total params\n"
     ]
    },
    {
     "data": {
      "application/vnd.jupyter.widget-view+json": {
       "model_id": "",
       "version_major": 2,
       "version_minor": 0
      },
      "text/plain": [
       "Validation sanity check: 0it [00:00, ?it/s]"
      ]
     },
     "metadata": {},
     "output_type": "display_data"
    },
    {
     "data": {
      "application/vnd.jupyter.widget-view+json": {
       "model_id": "b257e141e4b74b039699ed32fffa999a",
       "version_major": 2,
       "version_minor": 0
      },
      "text/plain": [
       "Training: 0it [00:00, ?it/s]"
      ]
     },
     "metadata": {},
     "output_type": "display_data"
    },
    {
     "data": {
      "application/vnd.jupyter.widget-view+json": {
       "model_id": "",
       "version_major": 2,
       "version_minor": 0
      },
      "text/plain": [
       "Validating: 0it [00:00, ?it/s]"
      ]
     },
     "metadata": {},
     "output_type": "display_data"
    },
    {
     "data": {
      "application/vnd.jupyter.widget-view+json": {
       "model_id": "",
       "version_major": 2,
       "version_minor": 0
      },
      "text/plain": [
       "Validating: 0it [00:00, ?it/s]"
      ]
     },
     "metadata": {},
     "output_type": "display_data"
    },
    {
     "data": {
      "application/vnd.jupyter.widget-view+json": {
       "model_id": "",
       "version_major": 2,
       "version_minor": 0
      },
      "text/plain": [
       "Validating: 0it [00:00, ?it/s]"
      ]
     },
     "metadata": {},
     "output_type": "display_data"
    },
    {
     "data": {
      "application/vnd.jupyter.widget-view+json": {
       "model_id": "",
       "version_major": 2,
       "version_minor": 0
      },
      "text/plain": [
       "Validating: 0it [00:00, ?it/s]"
      ]
     },
     "metadata": {},
     "output_type": "display_data"
    },
    {
     "data": {
      "application/vnd.jupyter.widget-view+json": {
       "model_id": "",
       "version_major": 2,
       "version_minor": 0
      },
      "text/plain": [
       "Validating: 0it [00:00, ?it/s]"
      ]
     },
     "metadata": {},
     "output_type": "display_data"
    },
    {
     "data": {
      "application/vnd.jupyter.widget-view+json": {
       "model_id": "",
       "version_major": 2,
       "version_minor": 0
      },
      "text/plain": [
       "Validating: 0it [00:00, ?it/s]"
      ]
     },
     "metadata": {},
     "output_type": "display_data"
    },
    {
     "data": {
      "application/vnd.jupyter.widget-view+json": {
       "model_id": "",
       "version_major": 2,
       "version_minor": 0
      },
      "text/plain": [
       "Validating: 0it [00:00, ?it/s]"
      ]
     },
     "metadata": {},
     "output_type": "display_data"
    },
    {
     "data": {
      "application/vnd.jupyter.widget-view+json": {
       "model_id": "",
       "version_major": 2,
       "version_minor": 0
      },
      "text/plain": [
       "Validating: 0it [00:00, ?it/s]"
      ]
     },
     "metadata": {},
     "output_type": "display_data"
    },
    {
     "data": {
      "application/vnd.jupyter.widget-view+json": {
       "model_id": "",
       "version_major": 2,
       "version_minor": 0
      },
      "text/plain": [
       "Validating: 0it [00:00, ?it/s]"
      ]
     },
     "metadata": {},
     "output_type": "display_data"
    },
    {
     "data": {
      "application/vnd.jupyter.widget-view+json": {
       "model_id": "",
       "version_major": 2,
       "version_minor": 0
      },
      "text/plain": [
       "Validating: 0it [00:00, ?it/s]"
      ]
     },
     "metadata": {},
     "output_type": "display_data"
    },
    {
     "name": "stdout",
     "output_type": "stream",
     "text": [
      "CPU times: user 42min 8s, sys: 1min 31s, total: 43min 39s\n",
      "Wall time: 1h 9min 55s\n"
     ]
    },
    {
     "data": {
      "text/plain": [
       "1"
      ]
     },
     "execution_count": 8,
     "metadata": {},
     "output_type": "execute_result"
    }
   ],
   "source": [
    "%%time\n",
    "trainer.fit(model=model, datamodule=dm)"
   ]
  },
  {
   "cell_type": "code",
   "execution_count": 9,
   "metadata": {},
   "outputs": [],
   "source": [
    "%load_ext tensorboard"
   ]
  },
  {
   "cell_type": "code",
   "execution_count": 10,
   "metadata": {},
   "outputs": [
    {
     "data": {
      "text/plain": [
       "Reusing TensorBoard on port 6006 (pid 629950), started 2:10:15 ago. (Use '!kill 629950' to kill it.)"
      ]
     },
     "metadata": {},
     "output_type": "display_data"
    },
    {
     "data": {
      "text/html": [
       "\n",
       "      <iframe id=\"tensorboard-frame-677a0668d61a36ff\" width=\"100%\" height=\"800\" frameborder=\"0\">\n",
       "      </iframe>\n",
       "      <script>\n",
       "        (function() {\n",
       "          const frame = document.getElementById(\"tensorboard-frame-677a0668d61a36ff\");\n",
       "          const url = new URL(\"/\", window.location);\n",
       "          const port = 6006;\n",
       "          if (port) {\n",
       "            url.port = port;\n",
       "          }\n",
       "          frame.src = url;\n",
       "        })();\n",
       "      </script>\n",
       "    "
      ],
      "text/plain": [
       "<IPython.core.display.HTML object>"
      ]
     },
     "metadata": {},
     "output_type": "display_data"
    }
   ],
   "source": [
    "%tensorboard --logdir ../logs"
   ]
  },
  {
   "cell_type": "code",
   "execution_count": null,
   "metadata": {},
   "outputs": [],
   "source": []
  }
 ],
 "metadata": {
  "kernelspec": {
   "display_name": "Python 3",
   "language": "python",
   "name": "python3"
  },
  "language_info": {
   "codemirror_mode": {
    "name": "ipython",
    "version": 3
   },
   "file_extension": ".py",
   "mimetype": "text/x-python",
   "name": "python",
   "nbconvert_exporter": "python",
   "pygments_lexer": "ipython3",
   "version": "3.8.6"
  }
 },
 "nbformat": 4,
 "nbformat_minor": 4
}
