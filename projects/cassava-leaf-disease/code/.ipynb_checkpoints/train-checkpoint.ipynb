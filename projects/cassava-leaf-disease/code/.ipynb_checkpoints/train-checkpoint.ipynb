{
 "cells": [
  {
   "cell_type": "markdown",
   "metadata": {},
   "source": [
    "# Imports"
   ]
  },
  {
   "cell_type": "code",
   "execution_count": 1,
   "metadata": {},
   "outputs": [
    {
     "name": "stdout",
     "output_type": "stream",
     "text": [
      "CPU times: user 1.32 s, sys: 243 ms, total: 1.56 s\n",
      "Wall time: 1.4 s\n"
     ]
    }
   ],
   "source": [
    "%%time\n",
    "import pytorch_lightning as pl\n",
    "import torch as th\n",
    "\n",
    "from pytorch_lightning.callbacks import ModelCheckpoint, EarlyStopping, GPUStatsMonitor\n",
    "from pytorch_lightning.loggers import TensorBoardLogger\n",
    "from pytorch_lightning.metrics.functional.classification import accuracy\n",
    "from pytorch_lightning import seed_everything\n",
    "import torch.nn.functional as F\n",
    "import torchvision\n",
    "import timm\n",
    "from timm import create_model\n",
    "from torchvision import transforms\n",
    "import os\n",
    "import pandas as pd\n",
    "\n",
    "# data module\n",
    "from src.dataset import DataModule\n",
    "\n",
    "# model\n",
    "from src.model import Model\n",
    "\n",
    "# config file\n",
    "from src.config import Config"
   ]
  },
  {
   "cell_type": "markdown",
   "metadata": {},
   "source": [
    "# Data module and setup"
   ]
  },
  {
   "cell_type": "code",
   "execution_count": 2,
   "metadata": {},
   "outputs": [
    {
     "name": "stderr",
     "output_type": "stream",
     "text": [
      "Global seed set to 2021\n"
     ]
    }
   ],
   "source": [
    "_ = seed_everything(seed =  Config.seed_val)"
   ]
  },
  {
   "cell_type": "code",
   "execution_count": 3,
   "metadata": {},
   "outputs": [],
   "source": [
    "config_dict = Config.__dict__.items()\n",
    "config_dict = dict([item for item in config_dict if '__' not in item[0]])"
   ]
  },
  {
   "cell_type": "code",
   "execution_count": 4,
   "metadata": {},
   "outputs": [
    {
     "name": "stdout",
     "output_type": "stream",
     "text": [
      "[INFO] Training on 17117\n",
      "[INFO] Validating on 4280\n",
      "CPU times: user 59.7 ms, sys: 30.8 ms, total: 90.5 ms\n",
      "Wall time: 94.9 ms\n"
     ]
    }
   ],
   "source": [
    "%%time\n",
    "\n",
    "train_df = pd.read_csv(os.path.join(Config.data_dir, 'train.csv'))\n",
    "\n",
    "data_transform = {\n",
    "    'train': transforms.Compose([\n",
    "        transforms.Resize(size=(Config.resize, Config.resize)),\n",
    "        transforms.RandomHorizontalFlip(p=.7),\n",
    "        transforms.RandomVerticalFlip(p=.3),\n",
    "        transforms.RandomRotation(degrees=25),\n",
    "        transforms.CenterCrop(size=(Config.img_h, Config.img_w)),\n",
    "        transforms.ColorJitter(brightness=(0.4, 1), contrast=.2, saturation=0, hue=0),\n",
    "        transforms.GaussianBlur(kernel_size=3)\n",
    "    ]),\n",
    "    \n",
    "    'validation':transforms.Compose([\n",
    "        transforms.Resize(size=(Config.resize, Config.resize)),\n",
    "        transforms.RandomRotation(degrees=25),\n",
    "        transforms.CenterCrop(size=(Config.img_h, Config.img_w)),\n",
    "        transforms.ColorJitter(brightness=(0.45, 1), \n",
    "                               contrast=.1, \n",
    "                               saturation=.1, \n",
    "                               hue=0.1),\n",
    "        transforms.GaussianBlur(kernel_size=3)\n",
    "    ]), \n",
    "    \n",
    "    'test':transforms.Compose([\n",
    "        transforms.Resize(size=(Config.img_h, Config.img_w)),\n",
    "        transforms.RandomRotation(degrees=25),\n",
    "    ])\n",
    "    \n",
    "}\n",
    "\n",
    "dm = DataModule(config=Config, \n",
    "                 train_data_dir=Config.train_data_dir, \n",
    "                 test_data_dir=Config.test_data_dir, \n",
    "                 train_df=train_df,\n",
    "                 data_transform=data_transform,\n",
    "                 validation_split=.2,\n",
    "                 train_frac = 1)\n",
    "dm.setup()"
   ]
  },
  {
   "cell_type": "code",
   "execution_count": 5,
   "metadata": {},
   "outputs": [
    {
     "name": "stdout",
     "output_type": "stream",
     "text": [
      "CPU times: user 300 ms, sys: 28.2 ms, total: 328 ms\n",
      "Wall time: 256 ms\n"
     ]
    }
   ],
   "source": [
    "%%time\n",
    "model = Model(config=config_dict)"
   ]
  },
  {
   "cell_type": "code",
   "execution_count": 6,
   "metadata": {},
   "outputs": [
    {
     "name": "stderr",
     "output_type": "stream",
     "text": [
      "GPU available: True, used: True\n",
      "TPU available: None, using: 0 TPU cores\n",
      "LOCAL_RANK: 0 - CUDA_VISIBLE_DEVICES: [0]\n",
      "Using native 16bit precision.\n"
     ]
    },
    {
     "name": "stdout",
     "output_type": "stream",
     "text": [
      "CPU times: user 34.9 ms, sys: 11.8 ms, total: 46.6 ms\n",
      "Wall time: 41.8 ms\n"
     ]
    }
   ],
   "source": [
    "%%time\n",
    "\n",
    "ckpt_cb = ModelCheckpoint(\n",
    "    monitor='val_acc', \n",
    "    mode='max', \n",
    "    dirpath=Config.models_dir, \n",
    "    filename=f'{Config.base_model}-'+'leaf_disease_classifier-{val_acc:.5f}-{val_loss:.5f}'\n",
    ")\n",
    "\n",
    "gpu_stats = GPUStatsMonitor(\n",
    "    memory_utilization=True, \n",
    "    gpu_utilization=True, \n",
    "    fan_speed=True, \n",
    "    temperature=True\n",
    ")\n",
    "es = EarlyStopping(\n",
    "    monitor='val_acc', \n",
    "    patience=4, \n",
    "    mode='max'\n",
    ")\n",
    "\n",
    "Logger = TensorBoardLogger(\n",
    "    save_dir=Config.logs_dir, \n",
    "    name='cassava_leaf_disease'\n",
    ")\n",
    "\n",
    "Callbacks = [es, ckpt_cb, gpu_stats]\n",
    "\n",
    "trainer = pl.Trainer(\n",
    "    gpus=-1, \n",
    "    max_epochs=5,#Config.num_epochs, \n",
    "    precision=16,\n",
    "    callbacks=Callbacks,\n",
    "    logger=Logger,\n",
    "    #fast_dev_run=True\n",
    ")"
   ]
  },
  {
   "cell_type": "markdown",
   "metadata": {},
   "source": [
    "# Training phase"
   ]
  },
  {
   "cell_type": "code",
   "execution_count": 7,
   "metadata": {},
   "outputs": [
    {
     "name": "stderr",
     "output_type": "stream",
     "text": [
      "\n",
      "  | Name                  | Type         | Params\n",
      "-------------------------------------------------------\n",
      "0 | train_transforms      | Sequential   | 0     \n",
      "1 | validation_transforms | Sequential   | 0     \n",
      "2 | encoder               | EfficientNet | 9.1 M \n",
      "3 | classifier            | Linear       | 5.0 K \n",
      "4 | dropout               | Dropout      | 0     \n",
      "-------------------------------------------------------\n",
      "9.1 M     Trainable params\n",
      "0         Non-trainable params\n",
      "9.1 M     Total params\n",
      "/home/zeusdric/anaconda3/envs/deeplearning/lib/python3.8/site-packages/pytorch_lightning/utilities/distributed.py:50: UserWarning: The dataloader, val dataloader 0, does not have many workers which may be a bottleneck. Consider increasing the value of the `num_workers` argument` (try 4 which is the number of cpus on this machine) in the `DataLoader` init to improve performance.\n",
      "  warnings.warn(*args, **kwargs)\n"
     ]
    },
    {
     "data": {
      "application/vnd.jupyter.widget-view+json": {
       "model_id": "",
       "version_major": 2,
       "version_minor": 0
      },
      "text/plain": [
       "Validation sanity check: 0it [00:00, ?it/s]"
      ]
     },
     "metadata": {},
     "output_type": "display_data"
    },
    {
     "name": "stderr",
     "output_type": "stream",
     "text": [
      "/home/zeusdric/anaconda3/envs/deeplearning/lib/python3.8/site-packages/pytorch_lightning/utilities/distributed.py:50: UserWarning: The dataloader, train dataloader, does not have many workers which may be a bottleneck. Consider increasing the value of the `num_workers` argument` (try 4 which is the number of cpus on this machine) in the `DataLoader` init to improve performance.\n",
      "  warnings.warn(*args, **kwargs)\n"
     ]
    },
    {
     "data": {
      "application/vnd.jupyter.widget-view+json": {
       "model_id": "4624c035445f4893be1a5fa18f9949ed",
       "version_major": 2,
       "version_minor": 0
      },
      "text/plain": [
       "Training: 0it [00:00, ?it/s]"
      ]
     },
     "metadata": {},
     "output_type": "display_data"
    },
    {
     "data": {
      "application/vnd.jupyter.widget-view+json": {
       "model_id": "",
       "version_major": 2,
       "version_minor": 0
      },
      "text/plain": [
       "Validating: 0it [00:00, ?it/s]"
      ]
     },
     "metadata": {},
     "output_type": "display_data"
    },
    {
     "name": "stderr",
     "output_type": "stream",
     "text": [
      "/home/zeusdric/anaconda3/envs/deeplearning/lib/python3.8/site-packages/pytorch_lightning/utilities/distributed.py:50: UserWarning: Detected KeyboardInterrupt, attempting graceful shutdown...\n",
      "  warnings.warn(*args, **kwargs)\n"
     ]
    },
    {
     "name": "stdout",
     "output_type": "stream",
     "text": [
      "CPU times: user 21min 39s, sys: 1min 33s, total: 23min 13s\n",
      "Wall time: 25min 42s\n"
     ]
    },
    {
     "data": {
      "text/plain": [
       "1"
      ]
     },
     "execution_count": 7,
     "metadata": {},
     "output_type": "execute_result"
    }
   ],
   "source": [
    "%%time\n",
    "trainer.fit(model=model, datamodule=dm)"
   ]
  },
  {
   "cell_type": "code",
   "execution_count": 8,
   "metadata": {},
   "outputs": [],
   "source": [
    "%load_ext tensorboard"
   ]
  },
  {
   "cell_type": "code",
   "execution_count": 9,
   "metadata": {},
   "outputs": [
    {
     "data": {
      "text/plain": [
       "Reusing TensorBoard on port 6006 (pid 161949), started 0:30:11 ago. (Use '!kill 161949' to kill it.)"
      ]
     },
     "metadata": {},
     "output_type": "display_data"
    },
    {
     "data": {
      "text/html": [
       "\n",
       "      <iframe id=\"tensorboard-frame-677a0668d61a36ff\" width=\"100%\" height=\"800\" frameborder=\"0\">\n",
       "      </iframe>\n",
       "      <script>\n",
       "        (function() {\n",
       "          const frame = document.getElementById(\"tensorboard-frame-677a0668d61a36ff\");\n",
       "          const url = new URL(\"/\", window.location);\n",
       "          const port = 6006;\n",
       "          if (port) {\n",
       "            url.port = port;\n",
       "          }\n",
       "          frame.src = url;\n",
       "        })();\n",
       "      </script>\n",
       "    "
      ],
      "text/plain": [
       "<IPython.core.display.HTML object>"
      ]
     },
     "metadata": {},
     "output_type": "display_data"
    }
   ],
   "source": [
    "%tensorboard --logdir ../logs"
   ]
  }
 ],
 "metadata": {
  "kernelspec": {
   "display_name": "Python 3",
   "language": "python",
   "name": "python3"
  },
  "language_info": {
   "codemirror_mode": {
    "name": "ipython",
    "version": 3
   },
   "file_extension": ".py",
   "mimetype": "text/x-python",
   "name": "python",
   "nbconvert_exporter": "python",
   "pygments_lexer": "ipython3",
   "version": "3.8.6"
  }
 },
 "nbformat": 4,
 "nbformat_minor": 4
}
