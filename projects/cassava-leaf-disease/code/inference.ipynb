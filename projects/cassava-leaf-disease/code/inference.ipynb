{
 "cells": [
  {
   "cell_type": "markdown",
   "id": "grateful-transsexual",
   "metadata": {},
   "source": [
    "# imports "
   ]
  },
  {
   "cell_type": "code",
   "execution_count": 1,
   "id": "amber-barrel",
   "metadata": {},
   "outputs": [],
   "source": [
    "import pytorch_lightning as pl\n",
    "from pytorch_lightning.metrics.functional import accuracy\n",
    "\n",
    "import torch as th\n",
    "from torch.utils.data import DataLoader\n",
    "import torch.nn.functional as F\n",
    "from torchvision import transforms\n",
    "\n",
    "import pandas as pd\n",
    "import numpy as np\n",
    "\n",
    "from src.config import Config\n",
    "\n",
    "from src.dataset import DataModule\n",
    "\n",
    "from src.model import Model\n",
    "\n",
    "import os\n",
    "from tqdm.notebook import tqdm"
   ]
  },
  {
   "cell_type": "markdown",
   "id": "brilliant-decade",
   "metadata": {},
   "source": [
    "# Load & export previously trained model for inference\n",
    "* Load model checkpoint (.ckpt file)\n",
    "* convert lightning module to torchScript (.pt/.pth/.bin etc.)\n",
    "* save Script module "
   ]
  },
  {
   "cell_type": "code",
   "execution_count": 2,
   "id": "infrared-joyce",
   "metadata": {},
   "outputs": [
    {
     "data": {
      "text/plain": [
       "['leaf_disease_classifier-val_acc=0.52336-val_loss=1.17564.ckpt',\n",
       " 'resnet34-cassava-leaf.pt',\n",
       " 'leaf_disease_classifier-val_acc=0.79609-val_loss=0.57685.ckpt']"
      ]
     },
     "execution_count": 2,
     "metadata": {},
     "output_type": "execute_result"
    }
   ],
   "source": [
    "os.listdir(Config.models_dir)"
   ]
  },
  {
   "cell_type": "code",
   "execution_count": 3,
   "id": "controlling-frontier",
   "metadata": {},
   "outputs": [],
   "source": [
    "def Load_model(ckpt_path, device=None):\n",
    "    config_dict = Config.__dict__.items()\n",
    "    config_dict = dict([item for item in config_dict if '__' not in item[0]])\n",
    "    \n",
    "    loaded_model = Model(config=config_dict)\n",
    "    \n",
    "    loaded_model = loaded_model.load_from_checkpoint(ckpt_path)\n",
    "    \n",
    "    if device is None:\n",
    "        loaded_model = loaded_model.cpu()\n",
    "    else:\n",
    "        loaded_model = loaded_model.cuda()\n",
    "        \n",
    "    return loaded_model.eval()"
   ]
  },
  {
   "cell_type": "code",
   "execution_count": 4,
   "id": "attractive-tracy",
   "metadata": {},
   "outputs": [],
   "source": [
    "path = os.path.join(\n",
    "    Config.models_dir, 'leaf_disease_classifier-val_acc=0.79609-val_loss=0.57685.ckpt'\n",
    ")\n",
    "trained_model = Load_model(ckpt_path=path, device='cuda')\n"
   ]
  },
  {
   "cell_type": "code",
   "execution_count": 5,
   "id": "oriented-bobby",
   "metadata": {},
   "outputs": [],
   "source": [
    "def convert_to_script(model:Model, save=True):\n",
    "    scriptModule = th.jit.script(obj=model)\n",
    "    if save:\n",
    "        fname = os.path.join(Config.models_dir, f'{Config.base_model}-cassava-leaf.pt')\n",
    "        th.jit.save(\n",
    "            m=scriptModule, \n",
    "            f=fname\n",
    "        )\n",
    "        print(f'[INFO] Script module saved as {fname}')\n",
    "        \n",
    "        return fname"
   ]
  },
  {
   "cell_type": "code",
   "execution_count": 6,
   "id": "governing-niagara",
   "metadata": {},
   "outputs": [
    {
     "name": "stdout",
     "output_type": "stream",
     "text": [
      "[INFO] Script module saved as /home/zeusdric/Dric/Zindi2020/Coding-Room/projects/cassava-leaf-disease/models/resnet34-cassava-leaf.pt\n"
     ]
    }
   ],
   "source": [
    "model_path = convert_to_script(model=trained_model, save=True)"
   ]
  },
  {
   "cell_type": "markdown",
   "id": "regular-appeal",
   "metadata": {},
   "source": [
    "# Load saved script"
   ]
  },
  {
   "cell_type": "code",
   "execution_count": 7,
   "id": "split-specific",
   "metadata": {
    "scrolled": true
   },
   "outputs": [
    {
     "data": {
      "text/plain": [
       "RecursiveScriptModule(\n",
       "  original_name=Model\n",
       "  (encoder): RecursiveScriptModule(\n",
       "    original_name=ResNet\n",
       "    (conv1): RecursiveScriptModule(original_name=Conv2d)\n",
       "    (bn1): RecursiveScriptModule(original_name=BatchNorm2d)\n",
       "    (act1): RecursiveScriptModule(original_name=ReLU)\n",
       "    (maxpool): RecursiveScriptModule(original_name=MaxPool2d)\n",
       "    (layer1): RecursiveScriptModule(\n",
       "      original_name=Sequential\n",
       "      (0): RecursiveScriptModule(\n",
       "        original_name=BasicBlock\n",
       "        (conv1): RecursiveScriptModule(original_name=Conv2d)\n",
       "        (bn1): RecursiveScriptModule(original_name=BatchNorm2d)\n",
       "        (act1): RecursiveScriptModule(original_name=ReLU)\n",
       "        (conv2): RecursiveScriptModule(original_name=Conv2d)\n",
       "        (bn2): RecursiveScriptModule(original_name=BatchNorm2d)\n",
       "        (act2): RecursiveScriptModule(original_name=ReLU)\n",
       "      )\n",
       "      (1): RecursiveScriptModule(\n",
       "        original_name=BasicBlock\n",
       "        (conv1): RecursiveScriptModule(original_name=Conv2d)\n",
       "        (bn1): RecursiveScriptModule(original_name=BatchNorm2d)\n",
       "        (act1): RecursiveScriptModule(original_name=ReLU)\n",
       "        (conv2): RecursiveScriptModule(original_name=Conv2d)\n",
       "        (bn2): RecursiveScriptModule(original_name=BatchNorm2d)\n",
       "        (act2): RecursiveScriptModule(original_name=ReLU)\n",
       "      )\n",
       "      (2): RecursiveScriptModule(\n",
       "        original_name=BasicBlock\n",
       "        (conv1): RecursiveScriptModule(original_name=Conv2d)\n",
       "        (bn1): RecursiveScriptModule(original_name=BatchNorm2d)\n",
       "        (act1): RecursiveScriptModule(original_name=ReLU)\n",
       "        (conv2): RecursiveScriptModule(original_name=Conv2d)\n",
       "        (bn2): RecursiveScriptModule(original_name=BatchNorm2d)\n",
       "        (act2): RecursiveScriptModule(original_name=ReLU)\n",
       "      )\n",
       "    )\n",
       "    (layer2): RecursiveScriptModule(\n",
       "      original_name=Sequential\n",
       "      (0): RecursiveScriptModule(\n",
       "        original_name=BasicBlock\n",
       "        (conv1): RecursiveScriptModule(original_name=Conv2d)\n",
       "        (bn1): RecursiveScriptModule(original_name=BatchNorm2d)\n",
       "        (act1): RecursiveScriptModule(original_name=ReLU)\n",
       "        (conv2): RecursiveScriptModule(original_name=Conv2d)\n",
       "        (bn2): RecursiveScriptModule(original_name=BatchNorm2d)\n",
       "        (act2): RecursiveScriptModule(original_name=ReLU)\n",
       "        (downsample): RecursiveScriptModule(\n",
       "          original_name=Sequential\n",
       "          (0): RecursiveScriptModule(original_name=Conv2d)\n",
       "          (1): RecursiveScriptModule(original_name=BatchNorm2d)\n",
       "        )\n",
       "      )\n",
       "      (1): RecursiveScriptModule(\n",
       "        original_name=BasicBlock\n",
       "        (conv1): RecursiveScriptModule(original_name=Conv2d)\n",
       "        (bn1): RecursiveScriptModule(original_name=BatchNorm2d)\n",
       "        (act1): RecursiveScriptModule(original_name=ReLU)\n",
       "        (conv2): RecursiveScriptModule(original_name=Conv2d)\n",
       "        (bn2): RecursiveScriptModule(original_name=BatchNorm2d)\n",
       "        (act2): RecursiveScriptModule(original_name=ReLU)\n",
       "      )\n",
       "      (2): RecursiveScriptModule(\n",
       "        original_name=BasicBlock\n",
       "        (conv1): RecursiveScriptModule(original_name=Conv2d)\n",
       "        (bn1): RecursiveScriptModule(original_name=BatchNorm2d)\n",
       "        (act1): RecursiveScriptModule(original_name=ReLU)\n",
       "        (conv2): RecursiveScriptModule(original_name=Conv2d)\n",
       "        (bn2): RecursiveScriptModule(original_name=BatchNorm2d)\n",
       "        (act2): RecursiveScriptModule(original_name=ReLU)\n",
       "      )\n",
       "      (3): RecursiveScriptModule(\n",
       "        original_name=BasicBlock\n",
       "        (conv1): RecursiveScriptModule(original_name=Conv2d)\n",
       "        (bn1): RecursiveScriptModule(original_name=BatchNorm2d)\n",
       "        (act1): RecursiveScriptModule(original_name=ReLU)\n",
       "        (conv2): RecursiveScriptModule(original_name=Conv2d)\n",
       "        (bn2): RecursiveScriptModule(original_name=BatchNorm2d)\n",
       "        (act2): RecursiveScriptModule(original_name=ReLU)\n",
       "      )\n",
       "    )\n",
       "    (layer3): RecursiveScriptModule(\n",
       "      original_name=Sequential\n",
       "      (0): RecursiveScriptModule(\n",
       "        original_name=BasicBlock\n",
       "        (conv1): RecursiveScriptModule(original_name=Conv2d)\n",
       "        (bn1): RecursiveScriptModule(original_name=BatchNorm2d)\n",
       "        (act1): RecursiveScriptModule(original_name=ReLU)\n",
       "        (conv2): RecursiveScriptModule(original_name=Conv2d)\n",
       "        (bn2): RecursiveScriptModule(original_name=BatchNorm2d)\n",
       "        (act2): RecursiveScriptModule(original_name=ReLU)\n",
       "        (downsample): RecursiveScriptModule(\n",
       "          original_name=Sequential\n",
       "          (0): RecursiveScriptModule(original_name=Conv2d)\n",
       "          (1): RecursiveScriptModule(original_name=BatchNorm2d)\n",
       "        )\n",
       "      )\n",
       "      (1): RecursiveScriptModule(\n",
       "        original_name=BasicBlock\n",
       "        (conv1): RecursiveScriptModule(original_name=Conv2d)\n",
       "        (bn1): RecursiveScriptModule(original_name=BatchNorm2d)\n",
       "        (act1): RecursiveScriptModule(original_name=ReLU)\n",
       "        (conv2): RecursiveScriptModule(original_name=Conv2d)\n",
       "        (bn2): RecursiveScriptModule(original_name=BatchNorm2d)\n",
       "        (act2): RecursiveScriptModule(original_name=ReLU)\n",
       "      )\n",
       "      (2): RecursiveScriptModule(\n",
       "        original_name=BasicBlock\n",
       "        (conv1): RecursiveScriptModule(original_name=Conv2d)\n",
       "        (bn1): RecursiveScriptModule(original_name=BatchNorm2d)\n",
       "        (act1): RecursiveScriptModule(original_name=ReLU)\n",
       "        (conv2): RecursiveScriptModule(original_name=Conv2d)\n",
       "        (bn2): RecursiveScriptModule(original_name=BatchNorm2d)\n",
       "        (act2): RecursiveScriptModule(original_name=ReLU)\n",
       "      )\n",
       "      (3): RecursiveScriptModule(\n",
       "        original_name=BasicBlock\n",
       "        (conv1): RecursiveScriptModule(original_name=Conv2d)\n",
       "        (bn1): RecursiveScriptModule(original_name=BatchNorm2d)\n",
       "        (act1): RecursiveScriptModule(original_name=ReLU)\n",
       "        (conv2): RecursiveScriptModule(original_name=Conv2d)\n",
       "        (bn2): RecursiveScriptModule(original_name=BatchNorm2d)\n",
       "        (act2): RecursiveScriptModule(original_name=ReLU)\n",
       "      )\n",
       "      (4): RecursiveScriptModule(\n",
       "        original_name=BasicBlock\n",
       "        (conv1): RecursiveScriptModule(original_name=Conv2d)\n",
       "        (bn1): RecursiveScriptModule(original_name=BatchNorm2d)\n",
       "        (act1): RecursiveScriptModule(original_name=ReLU)\n",
       "        (conv2): RecursiveScriptModule(original_name=Conv2d)\n",
       "        (bn2): RecursiveScriptModule(original_name=BatchNorm2d)\n",
       "        (act2): RecursiveScriptModule(original_name=ReLU)\n",
       "      )\n",
       "      (5): RecursiveScriptModule(\n",
       "        original_name=BasicBlock\n",
       "        (conv1): RecursiveScriptModule(original_name=Conv2d)\n",
       "        (bn1): RecursiveScriptModule(original_name=BatchNorm2d)\n",
       "        (act1): RecursiveScriptModule(original_name=ReLU)\n",
       "        (conv2): RecursiveScriptModule(original_name=Conv2d)\n",
       "        (bn2): RecursiveScriptModule(original_name=BatchNorm2d)\n",
       "        (act2): RecursiveScriptModule(original_name=ReLU)\n",
       "      )\n",
       "    )\n",
       "    (layer4): RecursiveScriptModule(\n",
       "      original_name=Sequential\n",
       "      (0): RecursiveScriptModule(\n",
       "        original_name=BasicBlock\n",
       "        (conv1): RecursiveScriptModule(original_name=Conv2d)\n",
       "        (bn1): RecursiveScriptModule(original_name=BatchNorm2d)\n",
       "        (act1): RecursiveScriptModule(original_name=ReLU)\n",
       "        (conv2): RecursiveScriptModule(original_name=Conv2d)\n",
       "        (bn2): RecursiveScriptModule(original_name=BatchNorm2d)\n",
       "        (act2): RecursiveScriptModule(original_name=ReLU)\n",
       "        (downsample): RecursiveScriptModule(\n",
       "          original_name=Sequential\n",
       "          (0): RecursiveScriptModule(original_name=Conv2d)\n",
       "          (1): RecursiveScriptModule(original_name=BatchNorm2d)\n",
       "        )\n",
       "      )\n",
       "      (1): RecursiveScriptModule(\n",
       "        original_name=BasicBlock\n",
       "        (conv1): RecursiveScriptModule(original_name=Conv2d)\n",
       "        (bn1): RecursiveScriptModule(original_name=BatchNorm2d)\n",
       "        (act1): RecursiveScriptModule(original_name=ReLU)\n",
       "        (conv2): RecursiveScriptModule(original_name=Conv2d)\n",
       "        (bn2): RecursiveScriptModule(original_name=BatchNorm2d)\n",
       "        (act2): RecursiveScriptModule(original_name=ReLU)\n",
       "      )\n",
       "      (2): RecursiveScriptModule(\n",
       "        original_name=BasicBlock\n",
       "        (conv1): RecursiveScriptModule(original_name=Conv2d)\n",
       "        (bn1): RecursiveScriptModule(original_name=BatchNorm2d)\n",
       "        (act1): RecursiveScriptModule(original_name=ReLU)\n",
       "        (conv2): RecursiveScriptModule(original_name=Conv2d)\n",
       "        (bn2): RecursiveScriptModule(original_name=BatchNorm2d)\n",
       "        (act2): RecursiveScriptModule(original_name=ReLU)\n",
       "      )\n",
       "    )\n",
       "    (global_pool): RecursiveScriptModule(\n",
       "      original_name=SelectAdaptivePool2d\n",
       "      (pool): RecursiveScriptModule(original_name=AdaptiveAvgPool2d)\n",
       "    )\n",
       "    (fc): RecursiveScriptModule(original_name=Linear)\n",
       "  )\n",
       "  (classifier): RecursiveScriptModule(original_name=Linear)\n",
       "  (dropout): RecursiveScriptModule(original_name=Dropout)\n",
       ")"
      ]
     },
     "execution_count": 7,
     "metadata": {},
     "output_type": "execute_result"
    }
   ],
   "source": [
    "inf_model = th.jit.load(f=model_path)\n",
    "inf_model"
   ]
  },
  {
   "cell_type": "code",
   "execution_count": 8,
   "id": "certified-methodology",
   "metadata": {},
   "outputs": [],
   "source": [
    "def evaluate_model(model:Model, dataloader:DataLoader):\n",
    "    model.eval()\n",
    "    model.cuda()\n",
    "    accs = []\n",
    "    bar = tqdm(dataloader, desc='Evaluating')\n",
    "    with th.no_grad():\n",
    "        for data in bar:\n",
    "            xs, ys = data['img'], data['targets']\n",
    "            logits = model(xs.cuda())\n",
    "            preds = F.log_softmax(logits, dim=1)\n",
    "            acc = accuracy(pred=preds.detach().cpu(), target=ys.detach().cpu())\n",
    "            accs.append(acc.item())\n",
    "            bar.set_postfix({\n",
    "                \"accuracy\" : acc.item()\n",
    "            })\n",
    "            bar.refresh()\n",
    "    \n",
    "    return np.array(accs).mean"
   ]
  },
  {
   "cell_type": "code",
   "execution_count": 9,
   "id": "cellular-forwarding",
   "metadata": {},
   "outputs": [
    {
     "name": "stdout",
     "output_type": "stream",
     "text": [
      "[INFO] Training on 17117\n",
      "[INFO] Validating on 4280\n"
     ]
    }
   ],
   "source": [
    "# get data module\n",
    "train_df = pd.read_csv(os.path.join(Config.data_dir, 'train.csv'))\n",
    "data_transform = {\n",
    "    'train': transforms.Compose([\n",
    "        transforms.Resize(size=(Config.resize, Config.resize)),\n",
    "        transforms.RandomHorizontalFlip(p=.7),\n",
    "        transforms.RandomVerticalFlip(p=.3),\n",
    "        transforms.RandomRotation(degrees=25),\n",
    "        transforms.CenterCrop(size=(Config.img_h, Config.img_w)),\n",
    "        transforms.ColorJitter(brightness=(0.4, 1), contrast=.2, saturation=0, hue=0),\n",
    "        transforms.GaussianBlur(kernel_size=3)\n",
    "    ]),\n",
    "    \n",
    "    'validation':transforms.Compose([\n",
    "        transforms.Resize(size=(Config.resize, Config.resize)),\n",
    "        transforms.RandomRotation(degrees=25),\n",
    "        transforms.CenterCrop(size=(Config.img_h, Config.img_w)),\n",
    "        transforms.ColorJitter(brightness=(0.45, 1), \n",
    "                               contrast=.1, \n",
    "                               saturation=.1, \n",
    "                               hue=0.1),\n",
    "        transforms.GaussianBlur(kernel_size=3)\n",
    "    ]), \n",
    "    \n",
    "    'test':transforms.Compose([\n",
    "        transforms.Resize(size=(Config.img_h, Config.img_w)),\n",
    "        transforms.RandomRotation(degrees=25),\n",
    "    ])\n",
    "    \n",
    "}\n",
    "\n",
    "dm = DataModule(config=Config, \n",
    "                 train_data_dir=Config.train_data_dir, \n",
    "                 test_data_dir=Config.test_data_dir, \n",
    "                 train_df=train_df,\n",
    "                 data_transform=data_transform,\n",
    "                 validation_split=.2,\n",
    "                 train_frac = 1)\n",
    "dm.setup()\n"
   ]
  },
  {
   "cell_type": "code",
   "execution_count": null,
   "id": "noted-terrain",
   "metadata": {},
   "outputs": [
    {
     "data": {
      "application/vnd.jupyter.widget-view+json": {
       "model_id": "f960fe06ffac4c64b8deec99cf7994e2",
       "version_major": 2,
       "version_minor": 0
      },
      "text/plain": [
       "Evaluating:   0%|          | 0/134 [00:00<?, ?it/s]"
      ]
     },
     "metadata": {},
     "output_type": "display_data"
    }
   ],
   "source": [
    "# Evaluate model\n",
    "avg_acc = evaluate_model(model=inf_model, dataloader=dm.val_dataloader())\n",
    "print(f'[INFO] AVerage accuracy : {avg_acc}')"
   ]
  },
  {
   "cell_type": "code",
   "execution_count": null,
   "id": "romantic-composite",
   "metadata": {},
   "outputs": [],
   "source": []
  }
 ],
 "metadata": {
  "kernelspec": {
   "display_name": "Python 3",
   "language": "python",
   "name": "python3"
  },
  "language_info": {
   "codemirror_mode": {
    "name": "ipython",
    "version": 3
   },
   "file_extension": ".py",
   "mimetype": "text/x-python",
   "name": "python",
   "nbconvert_exporter": "python",
   "pygments_lexer": "ipython3",
   "version": "3.8.6"
  }
 },
 "nbformat": 4,
 "nbformat_minor": 5
}
